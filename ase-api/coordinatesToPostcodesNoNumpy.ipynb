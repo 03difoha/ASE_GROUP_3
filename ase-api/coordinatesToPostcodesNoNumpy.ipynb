{
 "cells": [
  {
   "cell_type": "code",
   "execution_count": 1,
   "metadata": {},
   "outputs": [],
   "source": [
    "import coordinatesToPostcodes as ctp\n",
    "\n",
    "tl_lat = 50.82222820845926 \n",
    "tl_long = -0.13196919532505566\n",
    "bl_lat = 50.82051837068025\n",
    "tr_long = -0.130904618121106\n",
    "\n",
    "# tl_lat = 50.84837563514685\n",
    "# tl_long = -0.15777175235189733\n",
    "# bl_lat = 50.836668839015815\n",
    "# tr_long = -0.11931960472038906\n",
    "\n",
    "box = {'tl':{'latitude' : tl_lat, 'longitude' : tl_long}, 'bl': {'latitude': bl_lat}, 'tr': {'longitude': tr_long}}"
   ]
  },
  {
   "cell_type": "code",
   "execution_count": 2,
   "metadata": {},
   "outputs": [],
   "source": [
    "c = ctp.coordinatesToPostcodes()"
   ]
  },
  {
   "cell_type": "code",
   "execution_count": 4,
   "metadata": {},
   "outputs": [
    {
     "data": {
      "text/plain": [
       "{'BN2 0JG': {'latitude': '50.821996', 'longitude': '-0.131705'},\n",
       " 'BN2 1QH': {'latitude': '50.820628', 'longitude': '-0.131689'},\n",
       " 'BN2 1RQ': {'latitude': '50.821275', 'longitude': '-0.131634'},\n",
       " 'BN2 1SU': {'latitude': '50.821796', 'longitude': '-0.131614'},\n",
       " 'BN2 1SN': {'latitude': '50.821605', 'longitude': '-0.131479'},\n",
       " 'BN2 1QA': {'latitude': '50.821325', 'longitude': '-0.131363'},\n",
       " 'BN2 1QJ': {'latitude': '50.820649', 'longitude': '-0.13129'},\n",
       " 'BN2 1QP': {'latitude': '50.820913', 'longitude': '-0.130939'},\n",
       " 'BN2 1QB': {'latitude': '50.821327', 'longitude': '-0.130937'}}"
      ]
     },
     "execution_count": 4,
     "metadata": {},
     "output_type": "execute_result"
    }
   ],
   "source": [
    "res = c.get_postcodes_in_square(box)\n",
    "res"
   ]
  },
  {
   "cell_type": "code",
   "execution_count": null,
   "metadata": {},
   "outputs": [],
   "source": []
  }
 ],
 "metadata": {
  "interpreter": {
   "hash": "0a05425edc6ded2e95b1933ff881a7d92e63b62134ac63858e1fcef34fa0f48b"
  },
  "kernelspec": {
   "display_name": "Python 3.9.9 64-bit ('venv': venv)",
   "language": "python",
   "name": "python3"
  },
  "language_info": {
   "codemirror_mode": {
    "name": "ipython",
    "version": 3
   },
   "file_extension": ".py",
   "mimetype": "text/x-python",
   "name": "python",
   "nbconvert_exporter": "python",
   "pygments_lexer": "ipython3",
   "version": "3.9.9"
  },
  "orig_nbformat": 4
 },
 "nbformat": 4,
 "nbformat_minor": 2
}
